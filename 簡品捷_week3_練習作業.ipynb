{
  "nbformat": 4,
  "nbformat_minor": 0,
  "metadata": {
    "colab": {
      "name": "簡品捷-week3-練習作業.ipynb",
      "provenance": [],
      "collapsed_sections": [],
      "authorship_tag": "ABX9TyMA0BgYpJ9qQx5omWeO3uAR",
      "include_colab_link": true
    },
    "kernelspec": {
      "name": "python3",
      "display_name": "Python 3"
    }
  },
  "cells": [
    {
      "cell_type": "markdown",
      "metadata": {
        "id": "view-in-github",
        "colab_type": "text"
      },
      "source": [
        "<a href=\"https://colab.research.google.com/github/a109010153/Computational-Thinking-and-Programming-Design/blob/main/%E7%B0%A1%E5%93%81%E6%8D%B7_week3_%E7%B7%B4%E7%BF%92%E4%BD%9C%E6%A5%AD.ipynb\" target=\"_parent\"><img src=\"https://colab.research.google.com/assets/colab-badge.svg\" alt=\"Open In Colab\"/></a>"
      ]
    },
    {
      "cell_type": "markdown",
      "metadata": {
        "id": "cWpcfGhCUNzg"
      },
      "source": [
        "# 課後作業"
      ]
    },
    {
      "cell_type": "markdown",
      "metadata": {
        "id": "8OsSGZO_V95A"
      },
      "source": [
        "從一則新聞報導，提出你對新聞系學生為什麼要學[運算思維與程式設計]的見解。"
      ]
    },
    {
      "cell_type": "markdown",
      "metadata": {
        "id": "ATlzTtwzWnrw"
      },
      "source": [
        "https://udn.com/news/story/6928/4665450"
      ]
    }
  ]
}